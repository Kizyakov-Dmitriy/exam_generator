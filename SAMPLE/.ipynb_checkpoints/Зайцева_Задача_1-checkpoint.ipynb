{
 "cells": [
  {
   "cell_type": "code",
   "execution_count": 28,
   "id": "b8a36230",
   "metadata": {
    "id": "b8a36230"
   },
   "outputs": [],
   "source": [
    "from random import randint\n",
    "from random import random\n",
    "from IPython.display import Latex\n",
    "from sympy import latex\n",
    "from pathlib import Path"
   ]
  },
  {
   "cell_type": "code",
   "execution_count": 29,
   "id": "6106e38f",
   "metadata": {
    "id": "6106e38f"
   },
   "outputs": [],
   "source": [
    "id = \"3.1\""
   ]
  },
  {
   "cell_type": "code",
   "execution_count": 30,
   "id": "3c9383fb",
   "metadata": {
    "id": "3c9383fb"
   },
   "outputs": [],
   "source": [
    "c_min = 1\n",
    "c_max = 10\n"
   ]
  },
  {
   "cell_type": "code",
   "execution_count": 31,
   "id": "2753dd62",
   "metadata": {
    "id": "2753dd62"
   },
   "outputs": [],
   "source": [
    "n = 8"
   ]
  },
  {
   "cell_type": "code",
   "execution_count": 32,
   "id": "0b70e1d9",
   "metadata": {
    "pycharm": {
     "name": "#%%\n"
    }
   },
   "outputs": [],
   "source": [
    "def solve(c1, c2, c3, c4, a, b):\n",
    "    e_y = c1 * a + c2 * (1 - a)\n",
    "    e_x = e_y * (c3 * b + c4 * (1 - b))\n",
    "    var_y = (c1 ** 2 * a + c2 ** 2 * (1-a)) - e_y ** 2\n",
    "    e_var_x_y = (c3 ** 2 * b + c4 ** 2 * (1 - b)) * var_y\n",
    "    var_e_x_y = ((b * c3 ** 2 + (1 - b) * c4 ** 2) * e_y ** 2) - e_x ** 2\n",
    "    var_x = e_var_x_y + var_e_x_y\n",
    "\n",
    "    return e_x, var_x"
   ]
  },
  {
   "cell_type": "code",
   "execution_count": 33,
   "id": "0wKcPetEGGCb",
   "metadata": {
    "id": "0wKcPetEGGCb"
   },
   "outputs": [],
   "source": [
    "text = \"\"\n",
    "for _ in range(n):\n",
    "    c1 = randint(c_min, c_max)\n",
    "    c2 = randint(c_min, c_max)\n",
    "    c3 = randint(c_min, c_max)\n",
    "    c4 = randint(c_min, c_max)\n",
    "    a = round(random(), 2)\n",
    "    b = round(random(), 2)\n",
    "    ans1, ans2 = solve(c1, c2, c3, c4, a, b)\n",
    "    assert ans1 >= 0\n",
    "    assert ans2 >= 0\n",
    "    text += r\"\"\"\n",
    "    \\begin{problem}\n",
    "\tСлучайная величина Y принимает только значения из множества $\\{((c1)), ((c2))\\}$, при этом $P(Y=((c1))) = ((a))$.\n",
    "\tРаспределение случайной величины X определено следующим образом:\n",
    "\t\\begin{equation*}\n",
    "\t\tX | Y =\n",
    "\t\t\\begin{cases}\n",
    "\t\t\t$((c3))$ * y, с вероятностью $ ((b))$ \\\\\n",
    "\t\t\t$((c4))$ * y, с вероятностью $ 1 - ((b))$\n",
    "\t\t\\end{cases}\n",
    "\t\\end{equation*}\n",
    "\n",
    "\tЮный аналитик Дарья нашла матожидание и дисперсию $X$.\n",
    "\n",
    "\tПомогите Дарье найти матожидание и дисперсию величины $X$\n",
    "\t\\end{problem}\n",
    "\t\\begin{solution}\n",
    "\n",
    "\tПервым этапом надо найти характеристики случайной величины $Y$\n",
    "\n",
    "\t$E(Y) = ((c1)) * ((a)) + ((c2)) * (1 - ((a)))$\n",
    "\n",
    "\t$Var(Y) = E(Y^2) - [E(Y)]^2 = ((c1))^2 * ((a)) + ((c2))^2 * (1 - ((a))) - [E(Y)]^2$\n",
    "\n",
    "\n",
    "\tПерейдем к рассмотрению характеристик условной случайно величины X\n",
    "\n",
    "\t$E(X) = E(E(X|Y)) = E[E(((c3)) * Y) * ((b)) + E(((c4)) * Y) * (1 - ((b)))] = E(Y) * (((c3)) * ((b)) + ((c4)) * (1 - ((b)))) = ((ans1))$\n",
    "\n",
    "\t$E(Var(X|Y)) = E[b * Var(c3 * Y) + (1 - b) * Var(c4 * Y)] = Var(Y) * (c3^2 * b + c4^2 * (1- b)) $\n",
    "\n",
    "\t$Var(E(X|Y)) = E(X^2|Y) - [E(X)]^2 = [E(Y)]^2 * (b * c3^2 + (1-b)*c4^2) - E(X)]^2$\n",
    "\n",
    "\t$Var(X) = E(Var(X|Y)) + Var(E(X|Y)) = ((ans2))$\n",
    "\t\\end{solution}\"\"\"\n",
    "\n",
    "    ans1 = round(ans1, 5)\n",
    "    ans2 = round(ans2, 5)\n",
    "    text = text.replace(\"((c1))\", latex(c1))\n",
    "    text = text.replace(\"((c2))\", latex(c2))\n",
    "    text = text.replace(\"((c3))\", latex(c3))\n",
    "    text = text.replace(\"((c4))\", latex(c4))\n",
    "    text = text.replace(\"((a))\", latex(a))\n",
    "    text = text.replace(\"((b))\", latex(b))\n",
    "    text = text.replace(\"((ans1))\", latex(ans1))\n",
    "    text = text.replace(\"((ans2))\", latex(ans2))\n"
   ]
  },
  {
   "cell_type": "code",
   "execution_count": 34,
   "id": "96ab0fce",
   "metadata": {
    "id": "96ab0fce",
    "outputId": "1a3afaf6-d19d-44b6-82e2-c81b721a86c6"
   },
   "outputs": [
    {
     "name": "stdout",
     "output_type": "stream",
     "text": [
      "\n",
      "    \\begin{problem}\n",
      "\tСлучайная величина Y принимает только значения из множества $\\{10, 7\\}$, при этом $P(Y=10) = 0.24$.\n",
      "\tРаспределение случайной величины X определено следующим образом:\n",
      "\t\\begin{equation*}\n",
      "\t\tX | Y =\n",
      "\t\t\\begin{cases}\n",
      "\t\t\t$4$ * y, с вероятностью $ 0.53$ \\\\\n",
      "\t\t\t$9$ * y, с вероятностью $ 1 - 0.53$\n",
      "\t\t\\end{cases}\n",
      "\t\\end{equation*}\n",
      "\n",
      "\tЮный аналитик Дарья нашла матожидание и дисперсию $X$.\n",
      "\n",
      "\tПомогите Дарье найти матожидание и дисперсию величины $X$\n",
      "\t\\end{problem}\n",
      "\t\\begin{solution}\n",
      "\n",
      "\tПервым этапом надо найти характеристики случайной величины $Y$\n",
      "\n",
      "\t$E(Y) = 10 * 0.24 + 7 * (1 - 0.24)$\n",
      "\n",
      "\t$Var(Y) = E(Y^2) - [E(Y)]^2 = 10^2 * 0.24 + 7^2 * (1 - 0.24) - [E(Y)]^2$\n",
      "\n",
      "\n",
      "\tПерейдем к рассмотрению характеристик условной случайно величины X\n",
      "\n",
      "\t$E(X) = E(E(X|Y)) = E[E(4 * Y) * 0.53 + E(9 * Y) * (1 - 0.53)] = E(Y) * (4 * 0.53 + 9 * (1 - 0.53)) = 49.022$\n",
      "\n",
      "\t$E(Var(X|Y)) = E[b * Var(c3 * Y) + (1 - b) * Var(c4 * Y)] = Var(Y) * (c3^2 * b + c4^2 * (1- b)) $\n",
      "\n",
      "\t$Var(E(X|Y)) = E(X^2|Y) - [E(X)]^2 = [E(Y)]^2 * (b * c3^2 + (1-b)*c4^2) - E(X)]^2$\n",
      "\n",
      "\t$Var(X) = E(Var(X|Y)) + Var(E(X|Y)) = 447.56552$\n",
      "\t\\end{solution}\n",
      "    \\begin{problem}\n",
      "\tСлучайная величина Y принимает только значения из множества $\\{1, 10\\}$, при этом $P(Y=1) = 0.7$.\n",
      "\tРаспределение случайной величины X определено следующим образом:\n",
      "\t\\begin{equation*}\n",
      "\t\tX | Y =\n",
      "\t\t\\begin{cases}\n",
      "\t\t\t$5$ * y, с вероятностью $ 0.11$ \\\\\n",
      "\t\t\t$8$ * y, с вероятностью $ 1 - 0.11$\n",
      "\t\t\\end{cases}\n",
      "\t\\end{equation*}\n",
      "\n",
      "\tЮный аналитик Дарья нашла матожидание и дисперсию $X$.\n",
      "\n",
      "\tПомогите Дарье найти матожидание и дисперсию величины $X$\n",
      "\t\\end{problem}\n",
      "\t\\begin{solution}\n",
      "\n",
      "\tПервым этапом надо найти характеристики случайной величины $Y$\n",
      "\n",
      "\t$E(Y) = 1 * 0.7 + 10 * (1 - 0.7)$\n",
      "\n",
      "\t$Var(Y) = E(Y^2) - [E(Y)]^2 = 1^2 * 0.7 + 10^2 * (1 - 0.7) - [E(Y)]^2$\n",
      "\n",
      "\n",
      "\tПерейдем к рассмотрению характеристик условной случайно величины X\n",
      "\n",
      "\t$E(X) = E(E(X|Y)) = E[E(5 * Y) * 0.11 + E(8 * Y) * (1 - 0.11)] = E(Y) * (5 * 0.11 + 8 * (1 - 0.11)) = 28.379$\n",
      "\n",
      "\t$E(Var(X|Y)) = E[b * Var(c3 * Y) + (1 - b) * Var(c4 * Y)] = Var(Y) * (c3^2 * b + c4^2 * (1- b)) $\n",
      "\n",
      "\t$Var(E(X|Y)) = E(X^2|Y) - [E(X)]^2 = [E(Y)]^2 * (b * c3^2 + (1-b)*c4^2) - E(X)]^2$\n",
      "\n",
      "\t$Var(X) = E(Var(X|Y)) + Var(E(X|Y)) = 1027.72936$\n",
      "\t\\end{solution}\n",
      "    \\begin{problem}\n",
      "\tСлучайная величина Y принимает только значения из множества $\\{7, 5\\}$, при этом $P(Y=7) = 0.08$.\n",
      "\tРаспределение случайной величины X определено следующим образом:\n",
      "\t\\begin{equation*}\n",
      "\t\tX | Y =\n",
      "\t\t\\begin{cases}\n",
      "\t\t\t$9$ * y, с вероятностью $ 0.24$ \\\\\n",
      "\t\t\t$8$ * y, с вероятностью $ 1 - 0.24$\n",
      "\t\t\\end{cases}\n",
      "\t\\end{equation*}\n",
      "\n",
      "\tЮный аналитик Дарья нашла матожидание и дисперсию $X$.\n",
      "\n",
      "\tПомогите Дарье найти матожидание и дисперсию величины $X$\n",
      "\t\\end{problem}\n",
      "\t\\begin{solution}\n",
      "\n",
      "\tПервым этапом надо найти характеристики случайной величины $Y$\n",
      "\n",
      "\t$E(Y) = 7 * 0.08 + 5 * (1 - 0.08)$\n",
      "\n",
      "\t$Var(Y) = E(Y^2) - [E(Y)]^2 = 7^2 * 0.08 + 5^2 * (1 - 0.08) - [E(Y)]^2$\n",
      "\n",
      "\n",
      "\tПерейдем к рассмотрению характеристик условной случайно величины X\n",
      "\n",
      "\t$E(X) = E(E(X|Y)) = E[E(9 * Y) * 0.24 + E(8 * Y) * (1 - 0.24)] = E(Y) * (9 * 0.24 + 8 * (1 - 0.24)) = 42.5184$\n",
      "\n",
      "\t$E(Var(X|Y)) = E[b * Var(c3 * Y) + (1 - b) * Var(c4 * Y)] = Var(Y) * (c3^2 * b + c4^2 * (1- b)) $\n",
      "\n",
      "\t$Var(E(X|Y)) = E(X^2|Y) - [E(X)]^2 = [E(Y)]^2 * (b * c3^2 + (1-b)*c4^2) - E(X)]^2$\n",
      "\n",
      "\t$Var(X) = E(Var(X|Y)) + Var(E(X|Y)) = 24.89926$\n",
      "\t\\end{solution}\n",
      "    \\begin{problem}\n",
      "\tСлучайная величина Y принимает только значения из множества $\\{2, 1\\}$, при этом $P(Y=2) = 0.61$.\n",
      "\tРаспределение случайной величины X определено следующим образом:\n",
      "\t\\begin{equation*}\n",
      "\t\tX | Y =\n",
      "\t\t\\begin{cases}\n",
      "\t\t\t$8$ * y, с вероятностью $ 0.15$ \\\\\n",
      "\t\t\t$6$ * y, с вероятностью $ 1 - 0.15$\n",
      "\t\t\\end{cases}\n",
      "\t\\end{equation*}\n",
      "\n",
      "\tЮный аналитик Дарья нашла матожидание и дисперсию $X$.\n",
      "\n",
      "\tПомогите Дарье найти матожидание и дисперсию величины $X$\n",
      "\t\\end{problem}\n",
      "\t\\begin{solution}\n",
      "\n",
      "\tПервым этапом надо найти характеристики случайной величины $Y$\n",
      "\n",
      "\t$E(Y) = 2 * 0.61 + 1 * (1 - 0.61)$\n",
      "\n",
      "\t$Var(Y) = E(Y^2) - [E(Y)]^2 = 2^2 * 0.61 + 1^2 * (1 - 0.61) - [E(Y)]^2$\n",
      "\n",
      "\n",
      "\tПерейдем к рассмотрению характеристик условной случайно величины X\n",
      "\n",
      "\t$E(X) = E(E(X|Y)) = E[E(8 * Y) * 0.15 + E(6 * Y) * (1 - 0.15)] = E(Y) * (8 * 0.15 + 6 * (1 - 0.15)) = 10.143$\n",
      "\n",
      "\t$E(Var(X|Y)) = E[b * Var(c3 * Y) + (1 - b) * Var(c4 * Y)] = Var(Y) * (c3^2 * b + c4^2 * (1- b)) $\n",
      "\n",
      "\t$Var(E(X|Y)) = E(X^2|Y) - [E(X)]^2 = [E(Y)]^2 * (b * c3^2 + (1-b)*c4^2) - E(X)]^2$\n",
      "\n",
      "\t$Var(X) = E(Var(X|Y)) + Var(E(X|Y)) = 10.88555$\n",
      "\t\\end{solution}\n",
      "    \\begin{problem}\n",
      "\tСлучайная величина Y принимает только значения из множества $\\{3, 4\\}$, при этом $P(Y=3) = 0.33$.\n",
      "\tРаспределение случайной величины X определено следующим образом:\n",
      "\t\\begin{equation*}\n",
      "\t\tX | Y =\n",
      "\t\t\\begin{cases}\n",
      "\t\t\t$9$ * y, с вероятностью $ 0.34$ \\\\\n",
      "\t\t\t$7$ * y, с вероятностью $ 1 - 0.34$\n",
      "\t\t\\end{cases}\n",
      "\t\\end{equation*}\n",
      "\n",
      "\tЮный аналитик Дарья нашла матожидание и дисперсию $X$.\n",
      "\n",
      "\tПомогите Дарье найти матожидание и дисперсию величины $X$\n",
      "\t\\end{problem}\n",
      "\t\\begin{solution}\n",
      "\n",
      "\tПервым этапом надо найти характеристики случайной величины $Y$\n",
      "\n",
      "\t$E(Y) = 3 * 0.33 + 4 * (1 - 0.33)$\n",
      "\n",
      "\t$Var(Y) = E(Y^2) - [E(Y)]^2 = 3^2 * 0.33 + 4^2 * (1 - 0.33) - [E(Y)]^2$\n",
      "\n",
      "\n",
      "\tПерейдем к рассмотрению характеристик условной случайно величины X\n",
      "\n",
      "\t$E(X) = E(E(X|Y)) = E[E(9 * Y) * 0.34 + E(7 * Y) * (1 - 0.34)] = E(Y) * (9 * 0.34 + 7 * (1 - 0.34)) = 28.1856$\n",
      "\n",
      "\t$E(Var(X|Y)) = E[b * Var(c3 * Y) + (1 - b) * Var(c4 * Y)] = Var(Y) * (c3^2 * b + c4^2 * (1- b)) $\n",
      "\n",
      "\t$Var(E(X|Y)) = E(X^2|Y) - [E(X)]^2 = [E(Y)]^2 * (b * c3^2 + (1-b)*c4^2) - E(X)]^2$\n",
      "\n",
      "\t$Var(X) = E(Var(X|Y)) + Var(E(X|Y)) = 25.32915$\n",
      "\t\\end{solution}\n"
     ]
    }
   ],
   "source": [
    "print(text)"
   ]
  },
  {
   "cell_type": "code",
   "execution_count": 35,
   "id": "ecf5f59f",
   "metadata": {
    "id": "ecf5f59f",
    "outputId": "11c1aeb8-9f95-4c98-95cc-205ca417abc4"
   },
   "outputs": [
    {
     "data": {
      "text/plain": [
       "WindowsPath('C:/Users/Dasha/Downloads/kursovaya/GEN/_Base/Q3')"
      ]
     },
     "execution_count": 35,
     "metadata": {},
     "output_type": "execute_result"
    }
   ],
   "source": [
    "saving_path = Path(Path.cwd().parent, \"GEN\", \"_Base\", \"Q\"+id[0])\n",
    "saving_path.mkdir(exist_ok=True)\n",
    "saving_path"
   ]
  },
  {
   "cell_type": "code",
   "execution_count": 36,
   "id": "5ff2795e",
   "metadata": {
    "id": "5ff2795e"
   },
   "outputs": [],
   "source": [
    "with open(Path(saving_path, \"type1.txt\"), \"w\", encoding='utf-8') as f:\n",
    "    f.write(text)"
   ]
  },
  {
   "cell_type": "code",
   "execution_count": 36,
   "id": "df731fe7",
   "metadata": {
    "id": "df731fe7"
   },
   "outputs": [],
   "source": []
  }
 ],
 "metadata": {
  "colab": {
   "name": "Зайцева Задача 1",
   "provenance": []
  },
  "kernelspec": {
   "display_name": "Python 3",
   "language": "python",
   "name": "python3"
  },
  "language_info": {
   "codemirror_mode": {
    "name": "ipython",
    "version": 3
   },
   "file_extension": ".py",
   "mimetype": "text/x-python",
   "name": "python",
   "nbconvert_exporter": "python",
   "pygments_lexer": "ipython3",
   "version": "3.8.8"
  }
 },
 "nbformat": 4,
 "nbformat_minor": 5
}
