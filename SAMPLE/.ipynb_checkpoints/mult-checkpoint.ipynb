{
 "cells": [
  {
   "cell_type": "code",
   "execution_count": 1,
   "id": "b8a36230",
   "metadata": {},
   "outputs": [],
   "source": [
    "from random import randint\n",
    "from IPython.display import Latex\n",
    "from sympy import latex\n",
    "from pathlib import Path"
   ]
  },
  {
   "cell_type": "code",
   "execution_count": 2,
   "id": "6106e38f",
   "metadata": {},
   "outputs": [],
   "source": [
    "id = \"3.1\""
   ]
  },
  {
   "cell_type": "code",
   "execution_count": 3,
   "id": "3c9383fb",
   "metadata": {},
   "outputs": [],
   "source": [
    "a_min = 0\n",
    "a_max = 10\n",
    "b_min = 0\n",
    "b_max = 10"
   ]
  },
  {
   "cell_type": "code",
   "execution_count": 4,
   "id": "2753dd62",
   "metadata": {},
   "outputs": [],
   "source": [
    "n = 10"
   ]
  },
  {
   "cell_type": "code",
   "execution_count": 5,
   "id": "4a1f3612",
   "metadata": {},
   "outputs": [],
   "source": [
    "text = \"\"\n",
    "for _ in range(n):\n",
    "    a = randint(a_min, a_max)\n",
    "    b = randint(b_min, b_max)\n",
    "    answer = a * b\n",
    "    text += r\"\"\"\n",
    "\\begin{problem}\n",
    "Вычислите значение следующего выражения: ((a)) * ((b))\n",
    "\\end{problem}\n",
    "\\begin{solution}\n",
    "Для решения воспользуемся калькулятором. Ответ: ((answer))\n",
    "\\end{solution}\"\"\"\n",
    "    text = text.replace(\"((a))\", latex(a))\n",
    "    text = text.replace(\"((b))\", latex(b))\n",
    "    text = text.replace(\"((answer))\", latex(answer))"
   ]
  },
  {
   "cell_type": "code",
   "execution_count": 6,
   "id": "96ab0fce",
   "metadata": {},
   "outputs": [
    {
     "name": "stdout",
     "output_type": "stream",
     "text": [
      "\n",
      "\\begin{problem}\n",
      "Вычислите значение следующего выражения: 4 * 3\n",
      "\\end{problem}\n",
      "\\begin{solution}\n",
      "Для решения воспользуемся калькулятором. Ответ: 12\n",
      "\\end{solution}\n",
      "\\begin{problem}\n",
      "Вычислите значение следующего выражения: 10 * 3\n",
      "\\end{problem}\n",
      "\\begin{solution}\n",
      "Для решения воспользуемся калькулятором. Ответ: 30\n",
      "\\end{solution}\n",
      "\\begin{problem}\n",
      "Вычислите значение следующего выражения: 6 * 4\n",
      "\\end{problem}\n",
      "\\begin{solution}\n",
      "Для решения воспользуемся калькулятором. Ответ: 24\n",
      "\\end{solution}\n",
      "\\begin{problem}\n",
      "Вычислите значение следующего выражения: 10 * 3\n",
      "\\end{problem}\n",
      "\\begin{solution}\n",
      "Для решения воспользуемся калькулятором. Ответ: 30\n",
      "\\end{solution}\n",
      "\\begin{problem}\n",
      "Вычислите значение следующего выражения: 6 * 2\n",
      "\\end{problem}\n",
      "\\begin{solution}\n",
      "Для решения воспользуемся калькулятором. Ответ: 12\n",
      "\\end{solution}\n",
      "\\begin{problem}\n",
      "Вычислите значение следующего выражения: 8 * 1\n",
      "\\end{problem}\n",
      "\\begin{solution}\n",
      "Для решения воспользуемся калькулятором. Ответ: 8\n",
      "\\end{solution}\n",
      "\\begin{problem}\n",
      "Вычислите значение следующего выражения: 10 * 2\n",
      "\\end{problem}\n",
      "\\begin{solution}\n",
      "Для решения воспользуемся калькулятором. Ответ: 20\n",
      "\\end{solution}\n",
      "\\begin{problem}\n",
      "Вычислите значение следующего выражения: 5 * 2\n",
      "\\end{problem}\n",
      "\\begin{solution}\n",
      "Для решения воспользуемся калькулятором. Ответ: 10\n",
      "\\end{solution}\n",
      "\\begin{problem}\n",
      "Вычислите значение следующего выражения: 3 * 3\n",
      "\\end{problem}\n",
      "\\begin{solution}\n",
      "Для решения воспользуемся калькулятором. Ответ: 9\n",
      "\\end{solution}\n",
      "\\begin{problem}\n",
      "Вычислите значение следующего выражения: 5 * 8\n",
      "\\end{problem}\n",
      "\\begin{solution}\n",
      "Для решения воспользуемся калькулятором. Ответ: 40\n",
      "\\end{solution}\n"
     ]
    }
   ],
   "source": [
    "print(text)"
   ]
  },
  {
   "cell_type": "code",
   "execution_count": 7,
   "id": "ecf5f59f",
   "metadata": {},
   "outputs": [
    {
     "data": {
      "text/plain": [
       "WindowsPath('C:/Users/Дмитрий/Jupyter/kursach/GEN/_Base/Q3')"
      ]
     },
     "execution_count": 7,
     "metadata": {},
     "output_type": "execute_result"
    }
   ],
   "source": [
    "saving_path = Path(Path.cwd().parent, \"GEN\", \"_Base\", \"Q\"+id[0])\n",
    "saving_path.mkdir(exist_ok=True)\n",
    "saving_path"
   ]
  },
  {
   "cell_type": "code",
   "execution_count": 8,
   "id": "5ff2795e",
   "metadata": {},
   "outputs": [],
   "source": [
    "with open(Path(saving_path, \"mult.txt\"), \"w\", encoding='utf-8') as f:\n",
    "    f.write(text)"
   ]
  },
  {
   "cell_type": "code",
   "execution_count": null,
   "id": "d2496c35",
   "metadata": {},
   "outputs": [],
   "source": []
  }
 ],
 "metadata": {
  "kernelspec": {
   "display_name": "Python 3 (ipykernel)",
   "language": "python",
   "name": "python3"
  },
  "language_info": {
   "codemirror_mode": {
    "name": "ipython",
    "version": 3
   },
   "file_extension": ".py",
   "mimetype": "text/x-python",
   "name": "python",
   "nbconvert_exporter": "python",
   "pygments_lexer": "ipython3",
   "version": "3.9.7"
  }
 },
 "nbformat": 4,
 "nbformat_minor": 5
}
