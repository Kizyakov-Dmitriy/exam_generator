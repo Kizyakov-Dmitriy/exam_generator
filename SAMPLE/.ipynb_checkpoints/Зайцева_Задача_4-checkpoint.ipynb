{
 "cells": [
  {
   "cell_type": "code",
   "execution_count": 154,
   "id": "b8a36230",
   "metadata": {
    "id": "b8a36230"
   },
   "outputs": [],
   "source": [
    "from random import randint\n",
    "from IPython.display import Latex\n",
    "from sympy import latex\n",
    "from pathlib import Path\n",
    "import numpy as np\n",
    "from scipy.stats import rv_discrete\n",
    "from itertools import product\n",
    "from random import uniform"
   ]
  },
  {
   "cell_type": "code",
   "execution_count": null,
   "id": "446ebb70",
   "metadata": {},
   "outputs": [],
   "source": [
    "#TODO: выборка, проверить используя критерий хи-квадрат пирсона."
   ]
  },
  {
   "cell_type": "code",
   "execution_count": 155,
   "id": "6106e38f",
   "metadata": {
    "id": "6106e38f"
   },
   "outputs": [],
   "source": [
    "id = \"6.1\""
   ]
  },
  {
   "cell_type": "code",
   "execution_count": 156,
   "id": "a16f1e6b",
   "metadata": {
    "pycharm": {
     "name": "#%%\n"
    }
   },
   "outputs": [],
   "source": [
    "def generate_values(values, probabilities):\n",
    "    a = np.random.random()\n",
    "    i = 0\n",
    "    assert len(values) == len(probabilities)\n",
    "    assert len(values) > 0\n",
    "    while True:\n",
    "        if a <= probabilities[i]:\n",
    "            return values[i]\n",
    "        a -= probabilities[i]\n",
    "        i += 1"
   ]
  },
  {
   "cell_type": "code",
   "execution_count": 157,
   "id": "6023c5f8",
   "metadata": {
    "pycharm": {
     "name": "#%%\n"
    }
   },
   "outputs": [],
   "source": [
    "def get_ans(x, y, prob):\n",
    "    exp = 10000\n",
    "    values = list(product(x, y))\n",
    "    good_exp = 0\n",
    "    print(values, prob)\n",
    "    y = {}\n",
    "    for exp in range(exp):\n",
    "        cur_val = generate_values(values=values, probabilities=prob)\n",
    "        if cur_val[0] + cur_val[1] == 1:\n",
    "            good_exp += 1\n",
    "            if cur_val[1] in y:\n",
    "                y[cur_val[1]] += 1\n",
    "            else:\n",
    "                y[cur_val[1]] = 1\n",
    "\n",
    "    ans = 0\n",
    "    for el in y:\n",
    "        ans += el * y[el] / good_exp\n",
    "    return ans"
   ]
  },
  {
   "cell_type": "code",
   "execution_count": 158,
   "id": "2753dd62",
   "metadata": {
    "id": "2753dd62"
   },
   "outputs": [],
   "source": [
    "n = 6"
   ]
  },
  {
   "cell_type": "code",
   "execution_count": 159,
   "id": "4a1f3612",
   "metadata": {
    "colab": {
     "base_uri": "https://localhost:8080/"
    },
    "id": "4a1f3612",
    "outputId": "1f1a18e4-a8f0-4b05-d22e-aa8307f03128"
   },
   "outputs": [
    {
     "name": "stdout",
     "output_type": "stream",
     "text": [
      "[(-8, 7), (-8, 8), (-7, 7), (-7, 8), (-6, 7), (-6, 8)] [0.304, 0.005, 0.245, 0.029, 0.32, 0.097]\n",
      "[(-3, 2), (-3, 3), (-2, 2), (-2, 3), (-1, 2), (-1, 3)] [0.29, 0.066, 0.298, 0.03, 0.234, 0.082]\n",
      "[(-4, 3), (-4, 4), (-3, 3), (-3, 4), (-2, 3), (-2, 4)] [0.07, 0.011, 0.084, 0.201, 0.205, 0.429]\n",
      "[(-9, 8), (-9, 9), (-8, 8), (-8, 9), (-7, 8), (-7, 9)] [0.09, 0.249, 0.005, 0.095, 0.23, 0.331]\n",
      "[(-6, 5), (-6, 6), (-5, 5), (-5, 6), (-4, 5), (-4, 6)] [0.039, 0.035, 0.207, 0.255, 0.054, 0.41]\n",
      "[(-5, 4), (-5, 5), (-4, 4), (-4, 5), (-3, 4), (-3, 5)] [0.216, 0.153, 0.277, 0.025, 0.141, 0.188]\n"
     ]
    }
   ],
   "source": [
    "text = \"\"\n",
    "for _ in range(n):\n",
    "    st_number = randint(0, 10)\n",
    "    x = [-st_number + 1 - i for i in range(2, -1, -1)]\n",
    "    y = [st_number + i for i in range(2)]\n",
    "    prob = [round(uniform(0, 1/3), 3) for _ in range(5)]\n",
    "    prob += [round(1 - sum(prob), 3)]\n",
    "    while not all([el >= 0 for el in prob]):\n",
    "        prob = [round(uniform(0, 1/3), 3) for _ in range(5)]\n",
    "        prob += [round(1 - sum(prob), 3)]\n",
    "    ans = get_ans(x, y, prob)\n",
    "\n",
    "    text += r\"\"\"\n",
    "    \\begin{problem}\n",
    "    \tЮный аналитик Дарья использовала метод Монте-Карло для исследования Дискретного случайного вектора, описанного ниже.\n",
    "\n",
    "        \\begin{tabular}{|c|c|c|c|}\n",
    "\t\\hline\n",
    "\t& X=$((x1))$ & X=$((x2))$ & X=$((x3))$ \\\\\n",
    "\t\\hline\n",
    "\tY = $((y1))$ & $((p1))$ & $((p3))$  &  $((p5))$ \\\\\n",
    "\t\\hline\n",
    "\tY = $((y2))$ & $((p2))$ & $((p4))$ & $((p6))$  \\\\\n",
    "\t\\hline\n",
    "\\end{tabular}\n",
    "\n",
    "    \tДарья получила, что E(Y|X + Y = 1) = $((ans))$.\n",
    "    \tПроверьте, можно ли доверять результату Дарьи аналитически. Сформулируйте определение метода Монте-Карло.\n",
    "    \\end{problem}\n",
    "    \\begin{solution}\n",
    "        $E(Y|X+Y=1) = \\frac{\\sum(P(X=1 - y_i, y=y_i) * y_i)}{\\sum(P(X=1 - y_i, y=y_i)}$.\n",
    "\n",
    "        Ответ: $((ans))$\n",
    "    \\end{solution}\"\"\"\n",
    "    for i, el in enumerate(x):\n",
    "        text = text.replace(\"((x\" + str(i + 1) + \"))\", latex(x[i]))\n",
    "    for i, el in enumerate(y):\n",
    "        text = text.replace(\"((y\" + str(i + 1) + \"))\", latex(y[i]))\n",
    "    for i, el in enumerate(prob):\n",
    "        text = text.replace(\"((p\" + str(i + 1) + \"))\", latex(prob[i]))\n",
    "    ans = round(ans, 5)\n",
    "    text = text.replace(\"((ans))\", latex(ans))\n",
    "\n",
    "\n"
   ]
  },
  {
   "cell_type": "code",
   "execution_count": 160,
   "id": "96ab0fce",
   "metadata": {
    "id": "96ab0fce",
    "outputId": "1a3afaf6-d19d-44b6-82e2-c81b721a86c6"
   },
   "outputs": [
    {
     "name": "stdout",
     "output_type": "stream",
     "text": [
      "\n",
      "    \\begin{problem}\n",
      "    \tЮный аналитик Дарья использовала метод Монте-Карло для исследования Дискретного случайного вектора, описанного ниже.\n",
      "\n",
      "        \\begin{tabular}{|c|c|c|c|}\n",
      "\t\\hline\n",
      "\t& X=$-8$ & X=$-7$ & X=$-6$ \\\\\n",
      "\t\\hline\n",
      "\tY = $7$ & $0.304$ & $0.245$  &  $0.32$ \\\\\n",
      "\t\\hline\n",
      "\tY = $8$ & $0.005$ & $0.029$ & $0.097$  \\\\\n",
      "\t\\hline\n",
      "\\end{tabular}\n",
      "\n",
      "    \tДарья получила, что E(Y|X + Y = 1) = $7.0893$.\n",
      "    \tПроверьте, можно ли доверять результату Дарьи аналитически. Сформулируйте определение метода Монте-Карло.\n",
      "    \\end{problem}\n",
      "    \\begin{solution}\n",
      "        $E(Y|X+Y=1) = \\frac{\\sum(P(X=1 - y_i, y=y_i) * y_i)}{\\sum(P(X=1 - y_i, y=y_i)}$.\n",
      "\n",
      "        Ответ: $7.0893$\n",
      "    \\end{solution}\n",
      "    \\begin{problem}\n",
      "    \tЮный аналитик Дарья использовала метод Монте-Карло для исследования Дискретного случайного вектора, описанного ниже.\n",
      "\n",
      "        \\begin{tabular}{|c|c|c|c|}\n",
      "\t\\hline\n",
      "\t& X=$-3$ & X=$-2$ & X=$-1$ \\\\\n",
      "\t\\hline\n",
      "\tY = $2$ & $0.29$ & $0.298$  &  $0.234$ \\\\\n",
      "\t\\hline\n",
      "\tY = $3$ & $0.066$ & $0.03$ & $0.082$  \\\\\n",
      "\t\\hline\n",
      "\\end{tabular}\n",
      "\n",
      "    \tДарья получила, что E(Y|X + Y = 1) = $2.10982$.\n",
      "    \tПроверьте, можно ли доверять результату Дарьи аналитически. Сформулируйте определение метода Монте-Карло.\n",
      "    \\end{problem}\n",
      "    \\begin{solution}\n",
      "        $E(Y|X+Y=1) = \\frac{\\sum(P(X=1 - y_i, y=y_i) * y_i)}{\\sum(P(X=1 - y_i, y=y_i)}$.\n",
      "\n",
      "        Ответ: $2.10982$\n",
      "    \\end{solution}\n",
      "    \\begin{problem}\n",
      "    \tЮный аналитик Дарья использовала метод Монте-Карло для исследования Дискретного случайного вектора, описанного ниже.\n",
      "\n",
      "        \\begin{tabular}{|c|c|c|c|}\n",
      "\t\\hline\n",
      "\t& X=$-4$ & X=$-3$ & X=$-2$ \\\\\n",
      "\t\\hline\n",
      "\tY = $3$ & $0.07$ & $0.084$  &  $0.205$ \\\\\n",
      "\t\\hline\n",
      "\tY = $4$ & $0.011$ & $0.201$ & $0.429$  \\\\\n",
      "\t\\hline\n",
      "\\end{tabular}\n",
      "\n",
      "    \tДарья получила, что E(Y|X + Y = 1) = $3.49618$.\n",
      "    \tПроверьте, можно ли доверять результату Дарьи аналитически. Сформулируйте определение метода Монте-Карло.\n",
      "    \\end{problem}\n",
      "    \\begin{solution}\n",
      "        $E(Y|X+Y=1) = \\frac{\\sum(P(X=1 - y_i, y=y_i) * y_i)}{\\sum(P(X=1 - y_i, y=y_i)}$.\n",
      "\n",
      "        Ответ: $3.49618$\n",
      "    \\end{solution}\n",
      "    \\begin{problem}\n",
      "    \tЮный аналитик Дарья использовала метод Монте-Карло для исследования Дискретного случайного вектора, описанного ниже.\n",
      "\n",
      "        \\begin{tabular}{|c|c|c|c|}\n",
      "\t\\hline\n",
      "\t& X=$-9$ & X=$-8$ & X=$-7$ \\\\\n",
      "\t\\hline\n",
      "\tY = $8$ & $0.09$ & $0.005$  &  $0.23$ \\\\\n",
      "\t\\hline\n",
      "\tY = $9$ & $0.249$ & $0.095$ & $0.331$  \\\\\n",
      "\t\\hline\n",
      "\\end{tabular}\n",
      "\n",
      "    \tДарья получила, что E(Y|X + Y = 1) = $8.2921$.\n",
      "    \tПроверьте, можно ли доверять результату Дарьи аналитически. Сформулируйте определение метода Монте-Карло.\n",
      "    \\end{problem}\n",
      "    \\begin{solution}\n",
      "        $E(Y|X+Y=1) = \\frac{\\sum(P(X=1 - y_i, y=y_i) * y_i)}{\\sum(P(X=1 - y_i, y=y_i)}$.\n",
      "\n",
      "        Ответ: $8.2921$\n",
      "    \\end{solution}\n",
      "    \\begin{problem}\n",
      "    \tЮный аналитик Дарья использовала метод Монте-Карло для исследования Дискретного случайного вектора, описанного ниже.\n",
      "\n",
      "        \\begin{tabular}{|c|c|c|c|}\n",
      "\t\\hline\n",
      "\t& X=$-6$ & X=$-5$ & X=$-4$ \\\\\n",
      "\t\\hline\n",
      "\tY = $5$ & $0.039$ & $0.207$  &  $0.054$ \\\\\n",
      "\t\\hline\n",
      "\tY = $6$ & $0.035$ & $0.255$ & $0.41$  \\\\\n",
      "\t\\hline\n",
      "\\end{tabular}\n",
      "\n",
      "    \tДарья получила, что E(Y|X + Y = 1) = $5.82286$.\n",
      "    \tПроверьте, можно ли доверять результату Дарьи аналитически. Сформулируйте определение метода Монте-Карло.\n",
      "    \\end{problem}\n",
      "    \\begin{solution}\n",
      "        $E(Y|X+Y=1) = \\frac{\\sum(P(X=1 - y_i, y=y_i) * y_i)}{\\sum(P(X=1 - y_i, y=y_i)}$.\n",
      "\n",
      "        Ответ: $5.82286$\n",
      "    \\end{solution}\n",
      "    \\begin{problem}\n",
      "    \tЮный аналитик Дарья использовала метод Монте-Карло для исследования Дискретного случайного вектора, описанного ниже.\n",
      "\n",
      "        \\begin{tabular}{|c|c|c|c|}\n",
      "\t\\hline\n",
      "\t& X=$-5$ & X=$-4$ & X=$-3$ \\\\\n",
      "\t\\hline\n",
      "\tY = $4$ & $0.216$ & $0.277$  &  $0.141$ \\\\\n",
      "\t\\hline\n",
      "\tY = $5$ & $0.153$ & $0.025$ & $0.188$  \\\\\n",
      "\t\\hline\n",
      "\\end{tabular}\n",
      "\n",
      "    \tДарья получила, что E(Y|X + Y = 1) = $4.15479$.\n",
      "    \tПроверьте, можно ли доверять результату Дарьи аналитически. Сформулируйте определение метода Монте-Карло.\n",
      "    \\end{problem}\n",
      "    \\begin{solution}\n",
      "        $E(Y|X+Y=1) = \\frac{\\sum(P(X=1 - y_i, y=y_i) * y_i)}{\\sum(P(X=1 - y_i, y=y_i)}$.\n",
      "\n",
      "        Ответ: $4.15479$\n",
      "    \\end{solution}\n"
     ]
    }
   ],
   "source": [
    "print(text)"
   ]
  },
  {
   "cell_type": "code",
   "execution_count": 161,
   "id": "ecf5f59f",
   "metadata": {
    "id": "ecf5f59f",
    "outputId": "11c1aeb8-9f95-4c98-95cc-205ca417abc4"
   },
   "outputs": [
    {
     "data": {
      "text/plain": [
       "WindowsPath('C:/Users/Dasha/Downloads/kursovaya/GEN/_Base/Q6')"
      ]
     },
     "execution_count": 161,
     "metadata": {},
     "output_type": "execute_result"
    }
   ],
   "source": [
    "saving_path = Path(Path.cwd().parent, \"GEN\", \"_Base\", \"Q\"+id[0])\n",
    "saving_path.mkdir(exist_ok=True)\n",
    "saving_path"
   ]
  },
  {
   "cell_type": "code",
   "execution_count": 162,
   "id": "5ff2795e",
   "metadata": {
    "id": "5ff2795e",
    "pycharm": {
     "name": "#%%\n"
    }
   },
   "outputs": [],
   "source": [
    "with open(Path(saving_path, \"add1.txt\"), \"w\", encoding='utf-8') as f:\n",
    "    f.write(text)"
   ]
  }
 ],
 "metadata": {
  "colab": {
   "name": "Зайцева Задача 1",
   "provenance": []
  },
  "kernelspec": {
   "display_name": "Python 3",
   "language": "python",
   "name": "python3"
  },
  "language_info": {
   "codemirror_mode": {
    "name": "ipython",
    "version": 3
   },
   "file_extension": ".py",
   "mimetype": "text/x-python",
   "name": "python",
   "nbconvert_exporter": "python",
   "pygments_lexer": "ipython3",
   "version": "3.8.8"
  }
 },
 "nbformat": 4,
 "nbformat_minor": 5
}
