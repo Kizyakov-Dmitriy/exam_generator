{
 "cells": [
  {
   "cell_type": "code",
   "execution_count": 1,
   "id": "b8a36230",
   "metadata": {
    "id": "b8a36230"
   },
   "outputs": [],
   "source": [
    "from random import randint\n",
    "import random\n",
    "from IPython.display import Latex\n",
    "from sympy import latex\n",
    "from pathlib import Path"
   ]
  },
  {
   "cell_type": "code",
   "execution_count": 2,
   "id": "6106e38f",
   "metadata": {
    "id": "6106e38f"
   },
   "outputs": [],
   "source": [
    "id = \"6.1\""
   ]
  },
  {
   "cell_type": "code",
   "execution_count": 3,
   "id": "3c9383fb",
   "metadata": {
    "id": "3c9383fb"
   },
   "outputs": [],
   "source": [
    "percent_low = 0.5\n",
    "percent_high = 0.9\n"
   ]
  },
  {
   "cell_type": "code",
   "execution_count": 4,
   "id": "2753dd62",
   "metadata": {
    "id": "2753dd62"
   },
   "outputs": [],
   "source": [
    "n = 8"
   ]
  },
  {
   "cell_type": "code",
   "execution_count": 5,
   "id": "0b70e1d9",
   "metadata": {
    "pycharm": {
     "name": "#%%\n"
    }
   },
   "outputs": [],
   "source": [
    "def solve(percent1, percent2):\n",
    "    beta = percent1 / (1 - percent1)\n",
    "    ans2 = percent2 ** beta\n",
    "    return beta, ans2"
   ]
  },
  {
   "cell_type": "code",
   "execution_count": 6,
   "outputs": [],
   "source": [
    "text = \"\"\n",
    "for _ in range(n):\n",
    "    percent1 = random.uniform(percent_low, percent_high)\n",
    "    percent2 = percent1 - random.uniform(0, percent_low / 2)\n",
    "    percent1 = round(percent1, 2)\n",
    "    percent2 = round(percent2, 2)\n",
    "    ans_beta, ans2 = solve(percent1, percent2)\n",
    "    percent1 *= 100\n",
    "    percent2 *= 100\n",
    "    text += r\"\"\"\n",
    "    \\begin{problem}\n",
    "\tИзвестно, что доля возвратов по кредитам в банке имеет распределение $F(x) = x^{\\beta}, 0 \\le x \\le 1$. Наблюдения показали, что в среднем она составила $((percent1))$\\%. Методом моментов оцените параметр $\\beta$ и вероятность того, что она опуститься ниже $((percent2))$\\%.\n",
    "\t\\end{problem}\n",
    "\t\\begin{solution}\n",
    "\n",
    "\t$f(x) = F'(x) = \\beta \\cdot x^{\\beta - 1}$\n",
    "\n",
    "\t$\\mu_{1} = E(X) = \\int_{-\\inf}^{\\inf}x \\cdot f(x) = \\int_{-\\inf}^{\\inf} \\beta \\cdot x^{\\beta} = \\beta \\cdot \\frac{x^{\\beta + 1}}{\\beta + 1}\\bigg|_0^1 = \\frac{\\beta}{\\beta + 1}$\n",
    "\n",
    "\t$\\beta = (\\beta + 1) \\cdot ((percent1))$\n",
    "\n",
    "\t$\\beta = \\frac{((percent1))}{1 - ((percent1))}$\n",
    "\n",
    "\t$ P(x \\le ((percent2))) = F(((percent2))) = ((percent2))^{((ans_beta))} $\n",
    "\n",
    "    Ответ: $((ans_beta)), ((ans2))$\n",
    "\t\\end{solution}\"\"\"\n",
    "\n",
    "    ans_beta = round(ans_beta, 2)\n",
    "    ans2 = round(ans2, 2)\n",
    "    text = text.replace(\"((ans_beta))\", latex(ans_beta))\n",
    "    text = text.replace(\"((ans2))\", latex(ans2))\n",
    "    text = text.replace(\"((percent1))\", latex(percent1))\n",
    "    text = text.replace(\"((percent2))\", latex(percent2))\n",
    "\n"
   ],
   "metadata": {
    "collapsed": false,
    "pycharm": {
     "name": "#%%\n"
    }
   }
  },
  {
   "cell_type": "code",
   "execution_count": 7,
   "id": "96ab0fce",
   "metadata": {
    "id": "96ab0fce",
    "outputId": "1a3afaf6-d19d-44b6-82e2-c81b721a86c6"
   },
   "outputs": [
    {
     "name": "stdout",
     "output_type": "stream",
     "text": [
      "\n",
      "    \\begin{problem}\n",
      "\tИзвестно, что доля возвратов по кредитам в банке имеет распределение $F(x) = x^{\\beta}, 0 \\le x \\le 1$. Наблюдения показали, что в среднем она составила $60.0$\\%. Методом моментов оцените параметр $\\beta$ и вероятность того, что она опуститься ниже $52.0$\\%.\n",
      "\t\\end{problem}\n",
      "\t\\begin{solution}\n",
      "\n",
      "\t$f(x) = F'(x) = \\beta \\cdot x^{\\beta - 1}$\n",
      "\n",
      "\t$\\mu_{1} = E(X) = \\int_{-\\inf}^{\\inf}x \\cdot f(x) = \\int_{-\\inf}^{\\inf} \\beta \\cdot x^{\\beta} = \\beta \\cdot \\frac{x^{\\beta + 1}}{\\beta + 1}\\bigg|_0^1 = \\frac{\\beta}{\\beta + 1}$\n",
      "\n",
      "\t$\\beta = (\\beta + 1) \\cdot 60.0$\n",
      "\n",
      "\t$\\beta = \\frac{60.0}{1 - 60.0}$\n",
      "\n",
      "\t$ P(x \\le 52.0) = F(52.0) = 52.0^{1.5} $\n",
      "\n",
      "    Ответ: $1.5, 0.37$\n",
      "\t\\end{solution}\n",
      "    \\begin{problem}\n",
      "\tИзвестно, что доля возвратов по кредитам в банке имеет распределение $F(x) = x^{\\beta}, 0 \\le x \\le 1$. Наблюдения показали, что в среднем она составила $71.0$\\%. Методом моментов оцените параметр $\\beta$ и вероятность того, что она опуститься ниже $62.0$\\%.\n",
      "\t\\end{problem}\n",
      "\t\\begin{solution}\n",
      "\n",
      "\t$f(x) = F'(x) = \\beta \\cdot x^{\\beta - 1}$\n",
      "\n",
      "\t$\\mu_{1} = E(X) = \\int_{-\\inf}^{\\inf}x \\cdot f(x) = \\int_{-\\inf}^{\\inf} \\beta \\cdot x^{\\beta} = \\beta \\cdot \\frac{x^{\\beta + 1}}{\\beta + 1}\\bigg|_0^1 = \\frac{\\beta}{\\beta + 1}$\n",
      "\n",
      "\t$\\beta = (\\beta + 1) \\cdot 71.0$\n",
      "\n",
      "\t$\\beta = \\frac{71.0}{1 - 71.0}$\n",
      "\n",
      "\t$ P(x \\le 62.0) = F(62.0) = 62.0^{2.45} $\n",
      "\n",
      "    Ответ: $2.45, 0.31$\n",
      "\t\\end{solution}\n",
      "    \\begin{problem}\n",
      "\tИзвестно, что доля возвратов по кредитам в банке имеет распределение $F(x) = x^{\\beta}, 0 \\le x \\le 1$. Наблюдения показали, что в среднем она составила $67.0$\\%. Методом моментов оцените параметр $\\beta$ и вероятность того, что она опуститься ниже $52.0$\\%.\n",
      "\t\\end{problem}\n",
      "\t\\begin{solution}\n",
      "\n",
      "\t$f(x) = F'(x) = \\beta \\cdot x^{\\beta - 1}$\n",
      "\n",
      "\t$\\mu_{1} = E(X) = \\int_{-\\inf}^{\\inf}x \\cdot f(x) = \\int_{-\\inf}^{\\inf} \\beta \\cdot x^{\\beta} = \\beta \\cdot \\frac{x^{\\beta + 1}}{\\beta + 1}\\bigg|_0^1 = \\frac{\\beta}{\\beta + 1}$\n",
      "\n",
      "\t$\\beta = (\\beta + 1) \\cdot 67.0$\n",
      "\n",
      "\t$\\beta = \\frac{67.0}{1 - 67.0}$\n",
      "\n",
      "\t$ P(x \\le 52.0) = F(52.0) = 52.0^{2.03} $\n",
      "\n",
      "    Ответ: $2.03, 0.27$\n",
      "\t\\end{solution}\n",
      "    \\begin{problem}\n",
      "\tИзвестно, что доля возвратов по кредитам в банке имеет распределение $F(x) = x^{\\beta}, 0 \\le x \\le 1$. Наблюдения показали, что в среднем она составила $55.0$\\%. Методом моментов оцените параметр $\\beta$ и вероятность того, что она опуститься ниже $50.0$\\%.\n",
      "\t\\end{problem}\n",
      "\t\\begin{solution}\n",
      "\n",
      "\t$f(x) = F'(x) = \\beta \\cdot x^{\\beta - 1}$\n",
      "\n",
      "\t$\\mu_{1} = E(X) = \\int_{-\\inf}^{\\inf}x \\cdot f(x) = \\int_{-\\inf}^{\\inf} \\beta \\cdot x^{\\beta} = \\beta \\cdot \\frac{x^{\\beta + 1}}{\\beta + 1}\\bigg|_0^1 = \\frac{\\beta}{\\beta + 1}$\n",
      "\n",
      "\t$\\beta = (\\beta + 1) \\cdot 55.0$\n",
      "\n",
      "\t$\\beta = \\frac{55.0}{1 - 55.0}$\n",
      "\n",
      "\t$ P(x \\le 50.0) = F(50.0) = 50.0^{1.22} $\n",
      "\n",
      "    Ответ: $1.22, 0.43$\n",
      "\t\\end{solution}\n",
      "    \\begin{problem}\n",
      "\tИзвестно, что доля возвратов по кредитам в банке имеет распределение $F(x) = x^{\\beta}, 0 \\le x \\le 1$. Наблюдения показали, что в среднем она составила $62.0$\\%. Методом моментов оцените параметр $\\beta$ и вероятность того, что она опуститься ниже $59.0$\\%.\n",
      "\t\\end{problem}\n",
      "\t\\begin{solution}\n",
      "\n",
      "\t$f(x) = F'(x) = \\beta \\cdot x^{\\beta - 1}$\n",
      "\n",
      "\t$\\mu_{1} = E(X) = \\int_{-\\inf}^{\\inf}x \\cdot f(x) = \\int_{-\\inf}^{\\inf} \\beta \\cdot x^{\\beta} = \\beta \\cdot \\frac{x^{\\beta + 1}}{\\beta + 1}\\bigg|_0^1 = \\frac{\\beta}{\\beta + 1}$\n",
      "\n",
      "\t$\\beta = (\\beta + 1) \\cdot 62.0$\n",
      "\n",
      "\t$\\beta = \\frac{62.0}{1 - 62.0}$\n",
      "\n",
      "\t$ P(x \\le 59.0) = F(59.0) = 59.0^{1.63} $\n",
      "\n",
      "    Ответ: $1.63, 0.42$\n",
      "\t\\end{solution}\n",
      "    \\begin{problem}\n",
      "\tИзвестно, что доля возвратов по кредитам в банке имеет распределение $F(x) = x^{\\beta}, 0 \\le x \\le 1$. Наблюдения показали, что в среднем она составила $74.0$\\%. Методом моментов оцените параметр $\\beta$ и вероятность того, что она опуститься ниже $73.0$\\%.\n",
      "\t\\end{problem}\n",
      "\t\\begin{solution}\n",
      "\n",
      "\t$f(x) = F'(x) = \\beta \\cdot x^{\\beta - 1}$\n",
      "\n",
      "\t$\\mu_{1} = E(X) = \\int_{-\\inf}^{\\inf}x \\cdot f(x) = \\int_{-\\inf}^{\\inf} \\beta \\cdot x^{\\beta} = \\beta \\cdot \\frac{x^{\\beta + 1}}{\\beta + 1}\\bigg|_0^1 = \\frac{\\beta}{\\beta + 1}$\n",
      "\n",
      "\t$\\beta = (\\beta + 1) \\cdot 74.0$\n",
      "\n",
      "\t$\\beta = \\frac{74.0}{1 - 74.0}$\n",
      "\n",
      "\t$ P(x \\le 73.0) = F(73.0) = 73.0^{2.85} $\n",
      "\n",
      "    Ответ: $2.85, 0.41$\n",
      "\t\\end{solution}\n",
      "    \\begin{problem}\n",
      "\tИзвестно, что доля возвратов по кредитам в банке имеет распределение $F(x) = x^{\\beta}, 0 \\le x \\le 1$. Наблюдения показали, что в среднем она составила $76.0$\\%. Методом моментов оцените параметр $\\beta$ и вероятность того, что она опуститься ниже $74.0$\\%.\n",
      "\t\\end{problem}\n",
      "\t\\begin{solution}\n",
      "\n",
      "\t$f(x) = F'(x) = \\beta \\cdot x^{\\beta - 1}$\n",
      "\n",
      "\t$\\mu_{1} = E(X) = \\int_{-\\inf}^{\\inf}x \\cdot f(x) = \\int_{-\\inf}^{\\inf} \\beta \\cdot x^{\\beta} = \\beta \\cdot \\frac{x^{\\beta + 1}}{\\beta + 1}\\bigg|_0^1 = \\frac{\\beta}{\\beta + 1}$\n",
      "\n",
      "\t$\\beta = (\\beta + 1) \\cdot 76.0$\n",
      "\n",
      "\t$\\beta = \\frac{76.0}{1 - 76.0}$\n",
      "\n",
      "\t$ P(x \\le 74.0) = F(74.0) = 74.0^{3.17} $\n",
      "\n",
      "    Ответ: $3.17, 0.39$\n",
      "\t\\end{solution}\n",
      "    \\begin{problem}\n",
      "\tИзвестно, что доля возвратов по кредитам в банке имеет распределение $F(x) = x^{\\beta}, 0 \\le x \\le 1$. Наблюдения показали, что в среднем она составила $57.0$\\%. Методом моментов оцените параметр $\\beta$ и вероятность того, что она опуститься ниже $51.0$\\%.\n",
      "\t\\end{problem}\n",
      "\t\\begin{solution}\n",
      "\n",
      "\t$f(x) = F'(x) = \\beta \\cdot x^{\\beta - 1}$\n",
      "\n",
      "\t$\\mu_{1} = E(X) = \\int_{-\\inf}^{\\inf}x \\cdot f(x) = \\int_{-\\inf}^{\\inf} \\beta \\cdot x^{\\beta} = \\beta \\cdot \\frac{x^{\\beta + 1}}{\\beta + 1}\\bigg|_0^1 = \\frac{\\beta}{\\beta + 1}$\n",
      "\n",
      "\t$\\beta = (\\beta + 1) \\cdot 57.0$\n",
      "\n",
      "\t$\\beta = \\frac{57.0}{1 - 57.0}$\n",
      "\n",
      "\t$ P(x \\le 51.0) = F(51.0) = 51.0^{1.33} $\n",
      "\n",
      "    Ответ: $1.33, 0.41$\n",
      "\t\\end{solution}\n"
     ]
    }
   ],
   "source": [
    "print(text)"
   ]
  },
  {
   "cell_type": "code",
   "execution_count": 8,
   "id": "ecf5f59f",
   "metadata": {
    "id": "ecf5f59f",
    "outputId": "11c1aeb8-9f95-4c98-95cc-205ca417abc4"
   },
   "outputs": [
    {
     "data": {
      "text/plain": "WindowsPath('C:/Users/Dasha/Downloads/kursovaya/GEN/_Base/Q6')"
     },
     "execution_count": 8,
     "metadata": {},
     "output_type": "execute_result"
    }
   ],
   "source": [
    "saving_path = Path(Path.cwd().parent, \"GEN\", \"_Base\", \"Q\"+id[0])\n",
    "saving_path.mkdir(exist_ok=True)\n",
    "saving_path"
   ]
  },
  {
   "cell_type": "code",
   "execution_count": 9,
   "id": "5ff2795e",
   "metadata": {
    "id": "5ff2795e"
   },
   "outputs": [],
   "source": [
    "with open(Path(saving_path, \"type1.txt\"), \"w\", encoding='utf-8') as f:\n",
    "    f.write(text)"
   ]
  },
  {
   "cell_type": "code",
   "execution_count": 9,
   "id": "df731fe7",
   "metadata": {
    "id": "df731fe7"
   },
   "outputs": [],
   "source": []
  }
 ],
 "metadata": {
  "colab": {
   "name": "Зайцева Задача 1",
   "provenance": []
  },
  "kernelspec": {
   "display_name": "Python 3",
   "language": "python",
   "name": "python3"
  },
  "language_info": {
   "codemirror_mode": {
    "name": "ipython",
    "version": 3
   },
   "file_extension": ".py",
   "mimetype": "text/x-python",
   "name": "python",
   "nbconvert_exporter": "python",
   "pygments_lexer": "ipython3",
   "version": "3.8.8"
  }
 },
 "nbformat": 4,
 "nbformat_minor": 5
}