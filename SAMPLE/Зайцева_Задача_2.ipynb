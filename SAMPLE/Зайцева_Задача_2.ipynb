{
 "cells": [
  {
   "cell_type": "code",
   "execution_count": 1,
   "id": "b8a36230",
   "metadata": {
    "id": "b8a36230"
   },
   "outputs": [],
   "source": [
    "from random import randint\n",
    "from IPython.display import Latex\n",
    "from sympy import latex\n",
    "from pathlib import Path\n",
    "from numpy import sin, cos, log, exp\n",
    "import numpy as np\n",
    "from scipy.stats import moment, kurtosis"
   ]
  },
  {
   "cell_type": "code",
   "execution_count": 2,
   "id": "6106e38f",
   "metadata": {
    "id": "6106e38f"
   },
   "outputs": [],
   "source": [
    "id = \"4.1\""
   ]
  },
  {
   "cell_type": "code",
   "execution_count": 3,
   "outputs": [],
   "source": [
    "def s(x, n):\n",
    "    x_m = sum([x[i] * n[i] for i in range(len(n))]) / len(x)\n",
    "\n",
    "    return (sum([(x[i] - x_m) ** 2 for i in range(len(x))]) / (len(x) - 1)) ** 0.5\n",
    "\n",
    "\n",
    "def corr_coef(x, y, n = None):\n",
    "    if not n:\n",
    "        n = [1/len(x) for _ in range(len(x))]\n",
    "\n",
    "    assert len(x) == len(y)\n",
    "    x_m = sum(x) / len(x)\n",
    "    y_m = sum(y) / len(y)\n",
    "    nom = sum([(x[i] - x_m) * (y[i] - y_m) * n[i] for i in range(len(x))])\n",
    "    den = (len(x) - 1) * s(x, n) * s(y, n)\n",
    "    return nom / den"
   ],
   "metadata": {
    "collapsed": false,
    "pycharm": {
     "name": "#%%\n"
    }
   }
  },
  {
   "cell_type": "code",
   "execution_count": 4,
   "outputs": [],
   "source": [
    "def get_ans(f1, f2, to_number):\n",
    "    array1 = [eval(f1 + '(' + str(i) + ')') for i in range(1, to_number + 1)]\n",
    "    array2 = [eval(f2 + '(' + str(i) + ')') for i in range(1, to_number + 1)]\n",
    "\n",
    "    e_1 = sum(array1) / len(array1)\n",
    "    sigma_1 = (sum([(el - e_1) ** 2 for el in array1]) / len(array1)) ** 0.5\n",
    "    e_2 = sum(array2) / len(array2)\n",
    "    mu_four_1 = sum([(el - e_1) ** 4 for el in array1]) / len(array1)\n",
    "    excess = mu_four_1 / sigma_1 ** 4 - 3\n",
    "    corr = corr_coef(array1, array2)\n",
    "    return e_1, sigma_1, mu_four_1, excess, corr"
   ],
   "metadata": {
    "collapsed": false,
    "pycharm": {
     "name": "#%%\n"
    }
   }
  },
  {
   "cell_type": "code",
   "execution_count": 5,
   "id": "3c9383fb",
   "metadata": {
    "id": "3c9383fb"
   },
   "outputs": [],
   "source": [
    "func = ['sin', 'cos', 'log', 'exp']\n"
   ]
  },
  {
   "cell_type": "code",
   "execution_count": 6,
   "id": "2753dd62",
   "metadata": {
    "id": "2753dd62"
   },
   "outputs": [],
   "source": [
    "n = 7"
   ]
  },
  {
   "cell_type": "code",
   "execution_count": 7,
   "outputs": [],
   "source": [
    "text = \"\"\n",
    "for _ in range(n):\n",
    "    c1 = randint(0, len(func) - 1)\n",
    "    c2 = randint(0, len(func) - 1)\n",
    "    to_number = randint(50,100)\n",
    "    while c1 == c2:\n",
    "        c2 = randint(0, len(func) - 1)\n",
    "    func1 = func[c1]\n",
    "    func2 = func[c2]\n",
    "\n",
    "    e, sigma, mu_4, excess, corr = get_ans(func[c1], func[c2], to_number)\n",
    "\n",
    "    text += r\"\"\"\n",
    "    \\begin{problem}\n",
    "    Создайте эмперические совокупности  $((func1))$ и $((func2))$ вида $((func1))(1),((func1))(2), ..., ((func1))(((to_number))) $ и $((func2))(1),((func2))(2), ..., ((func2))(((to_number))). $\n",
    "\n",
    "    Найдите эмпирическое среднее и эмпирическое стандартное отклонение совокупности $((func1))$, её четвёртый эмпирический центральный момент и эмпирический эксцесс.\n",
    "\n",
    "    Кроме того, найдите эмпирический коэффициент корреляции признаков $((func1))$ и $((func2))$ на совокупности натуральных чисел от $1$ до $((to_number))$.\n",
    "    \\end{problem}\n",
    "    \\begin{solution}\n",
    "    Используя\n",
    "\n",
    "\t$E(X) = sum(X) / n$\n",
    "\n",
    "\t$Var(X) = E(X^2) - [E(X)]^2$\n",
    "\n",
    "\t$\\mu_4(X) = E((X-E(X))^4)$\n",
    "\n",
    "\t$Ex = \\frac{\\mu_4(X)}{[\\sigma(X)]^4} - 3$\n",
    "\n",
    "\t$r_{xy} = \\frac{E(XY) - E(X) * E(Y)}{\\sigma(X) * \\sigma(Y)}$\n",
    "\n",
    "    рассчитаем искомые значения.\n",
    "\n",
    "    Ответы: $((e)), ((sigma)), ((mu_4)), ((excess)), ((corr))$.\n",
    "\n",
    "    \\end{solution}\"\"\"\n",
    "    e = round(e, 5)\n",
    "    sigma = round(sigma, 5)\n",
    "    mu_4 = round(mu_4, 5)\n",
    "    excess = round(excess, 5)\n",
    "    corr = round(corr, 5)\n",
    "    text = text.replace(\"((func1))\", latex(func1))\n",
    "    text = text.replace(\"((func2))\", latex(func2))\n",
    "    text = text.replace(\"((to_number))\", latex(to_number))\n",
    "    text = text.replace(\"((e))\", latex(e))\n",
    "    text = text.replace(\"((sigma))\", latex(sigma))\n",
    "    text = text.replace(\"((mu_4))\", latex(mu_4))\n",
    "    text = text.replace(\"((excess))\", latex(excess))\n",
    "    text = text.replace(\"((corr))\", latex(corr))\n"
   ],
   "metadata": {
    "collapsed": false,
    "pycharm": {
     "name": "#%%\n"
    }
   }
  },
  {
   "cell_type": "code",
   "execution_count": 8,
   "id": "96ab0fce",
   "metadata": {
    "id": "96ab0fce",
    "outputId": "1a3afaf6-d19d-44b6-82e2-c81b721a86c6"
   },
   "outputs": [
    {
     "name": "stdout",
     "output_type": "stream",
     "text": [
      "\n",
      "    \\begin{problem}\n",
      "    Создайте эмперические совокупности  $\\mathtt{\\text{sin}}$ и $\\mathtt{\\text{cos}}$ вида $\\mathtt{\\text{sin}}(1),\\mathtt{\\text{sin}}(2), ..., \\mathtt{\\text{sin}}(60) $ и $\\mathtt{\\text{cos}}(1),\\mathtt{\\text{cos}}(2), ..., \\mathtt{\\text{cos}}(60). $\n",
      "\n",
      "    Найдите эмпирическое среднее и эмпирическое стандартное отклонение совокупности $\\mathtt{\\text{sin}}$, её четвёртый эмпирический центральный момент и эмпирический эксцесс.\n",
      "\n",
      "    Кроме того, найдите эмпирический коэффициент корреляции признаков $\\mathtt{\\text{sin}}$ и $\\mathtt{\\text{cos}}$ на совокупности натуральных чисел от $1$ до $60$.\n",
      "    \\end{problem}\n",
      "    \\begin{solution}\n",
      "    Используя\n",
      "\n",
      "\t$E(X) = sum(X) / n$\n",
      "\n",
      "\t$Var(X) = E(X^2) - [E(X)]^2$\n",
      "\n",
      "\t$\\mu_4(X) = E((X-E(X))^4)$\n",
      "\n",
      "\t$Ex = \\frac{\\mu_4(X)}{[\\sigma(X)]^4} - 3$\n",
      "\n",
      "\t$r_{xy} = \\frac{E(XY) - E(X) * E(Y)}{\\sigma(X) * \\sigma(Y)}$\n",
      "\n",
      "    рассчитаем искомые значения.\n",
      "\n",
      "    Ответы: $0.02724, 0.70603, 0.37291, -1.49926, 0.00012$.\n",
      "\n",
      "    \\end{solution}\n",
      "    \\begin{problem}\n",
      "    Создайте эмперические совокупности  $\\mathtt{\\text{exp}}$ и $\\mathtt{\\text{cos}}$ вида $\\mathtt{\\text{exp}}(1),\\mathtt{\\text{exp}}(2), ..., \\mathtt{\\text{exp}}(57) $ и $\\mathtt{\\text{cos}}(1),\\mathtt{\\text{cos}}(2), ..., \\mathtt{\\text{cos}}(57). $\n",
      "\n",
      "    Найдите эмпирическое среднее и эмпирическое стандартное отклонение совокупности $\\mathtt{\\text{exp}}$, её четвёртый эмпирический центральный момент и эмпирический эксцесс.\n",
      "\n",
      "    Кроме того, найдите эмпирический коэффициент корреляции признаков $\\mathtt{\\text{exp}}$ и $\\mathtt{\\text{cos}}$ на совокупности натуральных чисел от $1$ до $57$.\n",
      "    \\end{problem}\n",
      "    \\begin{solution}\n",
      "    Используя\n",
      "\n",
      "\t$E(X) = sum(X) / n$\n",
      "\n",
      "\t$Var(X) = E(X^2) - [E(X)]^2$\n",
      "\n",
      "\t$\\mu_4(X) = E((X-E(X))^4)$\n",
      "\n",
      "\t$Ex = \\frac{\\mu_4(X)}{[\\sigma(X)]^4} - 3$\n",
      "\n",
      "\t$r_{xy} = \\frac{E(XY) - E(X) * E(Y)}{\\sigma(X) * \\sigma(Y)}$\n",
      "\n",
      "    рассчитаем искомые значения.\n",
      "\n",
      "    Ответы: $1.57801343872465 \\cdot 10^{23}, 7.94364472492678 \\cdot 10^{23}, 1.66305653632206 \\cdot 10^{97}, 38.76647, 0.00352$.\n",
      "\n",
      "    \\end{solution}\n",
      "    \\begin{problem}\n",
      "    Создайте эмперические совокупности  $\\mathtt{\\text{log}}$ и $\\mathtt{\\text{cos}}$ вида $\\mathtt{\\text{log}}(1),\\mathtt{\\text{log}}(2), ..., \\mathtt{\\text{log}}(61) $ и $\\mathtt{\\text{cos}}(1),\\mathtt{\\text{cos}}(2), ..., \\mathtt{\\text{cos}}(61). $\n",
      "\n",
      "    Найдите эмпирическое среднее и эмпирическое стандартное отклонение совокупности $\\mathtt{\\text{log}}$, её четвёртый эмпирический центральный момент и эмпирический эксцесс.\n",
      "\n",
      "    Кроме того, найдите эмпирический коэффициент корреляции признаков $\\mathtt{\\text{log}}$ и $\\mathtt{\\text{cos}}$ на совокупности натуральных чисел от $1$ до $61$.\n",
      "    \\end{problem}\n",
      "    \\begin{solution}\n",
      "    Используя\n",
      "\n",
      "\t$E(X) = sum(X) / n$\n",
      "\n",
      "\t$Var(X) = E(X^2) - [E(X)]^2$\n",
      "\n",
      "\t$\\mu_4(X) = E((X-E(X))^4)$\n",
      "\n",
      "\t$Ex = \\frac{\\mu_4(X)}{[\\sigma(X)]^4} - 3$\n",
      "\n",
      "\t$r_{xy} = \\frac{E(XY) - E(X) * E(Y)}{\\sigma(X) * \\sigma(Y)}$\n",
      "\n",
      "    рассчитаем искомые значения.\n",
      "\n",
      "    Ответы: $3.15966, 0.89438, 3.08587, 1.82265, -1.0 \\cdot 10^{-5}$.\n",
      "\n",
      "    \\end{solution}\n",
      "    \\begin{problem}\n",
      "    Создайте эмперические совокупности  $\\mathtt{\\text{exp}}$ и $\\mathtt{\\text{sin}}$ вида $\\mathtt{\\text{exp}}(1),\\mathtt{\\text{exp}}(2), ..., \\mathtt{\\text{exp}}(85) $ и $\\mathtt{\\text{sin}}(1),\\mathtt{\\text{sin}}(2), ..., \\mathtt{\\text{sin}}(85). $\n",
      "\n",
      "    Найдите эмпирическое среднее и эмпирическое стандартное отклонение совокупности $\\mathtt{\\text{exp}}$, её четвёртый эмпирический центральный момент и эмпирический эксцесс.\n",
      "\n",
      "    Кроме того, найдите эмпирический коэффициент корреляции признаков $\\mathtt{\\text{exp}}$ и $\\mathtt{\\text{sin}}$ на совокупности натуральных чисел от $1$ до $85$.\n",
      "    \\end{problem}\n",
      "    \\begin{solution}\n",
      "    Используя\n",
      "\n",
      "\t$E(X) = sum(X) / n$\n",
      "\n",
      "\t$Var(X) = E(X^2) - [E(X)]^2$\n",
      "\n",
      "\t$\\mu_4(X) = E((X-E(X))^4)$\n",
      "\n",
      "\t$Ex = \\frac{\\mu_4(X)}{[\\sigma(X)]^4} - 3$\n",
      "\n",
      "\t$r_{xy} = \\frac{E(XY) - E(X) * E(Y)}{\\sigma(X) * \\sigma(Y)}$\n",
      "\n",
      "    рассчитаем искомые значения.\n",
      "\n",
      "    Ответы: $1.53042524409691 \\cdot 10^{35}, 9.46886335007349 \\cdot 10^{35}, 5.07073544919377 \\cdot 10^{145}, 60.07824, 0.00032$.\n",
      "\n",
      "    \\end{solution}\n",
      "    \\begin{problem}\n",
      "    Создайте эмперические совокупности  $\\mathtt{\\text{cos}}$ и $\\mathtt{\\text{log}}$ вида $\\mathtt{\\text{cos}}(1),\\mathtt{\\text{cos}}(2), ..., \\mathtt{\\text{cos}}(98) $ и $\\mathtt{\\text{log}}(1),\\mathtt{\\text{log}}(2), ..., \\mathtt{\\text{log}}(98). $\n",
      "\n",
      "    Найдите эмпирическое среднее и эмпирическое стандартное отклонение совокупности $\\mathtt{\\text{cos}}$, её четвёртый эмпирический центральный момент и эмпирический эксцесс.\n",
      "\n",
      "    Кроме того, найдите эмпирический коэффициент корреляции признаков $\\mathtt{\\text{cos}}$ и $\\mathtt{\\text{log}}$ на совокупности натуральных чисел от $1$ до $98$.\n",
      "    \\end{problem}\n",
      "    \\begin{solution}\n",
      "    Используя\n",
      "\n",
      "\t$E(X) = sum(X) / n$\n",
      "\n",
      "\t$Var(X) = E(X^2) - [E(X)]^2$\n",
      "\n",
      "\t$\\mu_4(X) = E((X-E(X))^4)$\n",
      "\n",
      "\t$Ex = \\frac{\\mu_4(X)}{[\\sigma(X)]^4} - 3$\n",
      "\n",
      "\t$r_{xy} = \\frac{E(XY) - E(X) * E(Y)}{\\sigma(X) * \\sigma(Y)}$\n",
      "\n",
      "    рассчитаем искомые значения.\n",
      "\n",
      "    Ответы: $-0.01464, 0.70686, 0.37349, -1.50394, 1.0 \\cdot 10^{-5}$.\n",
      "\n",
      "    \\end{solution}\n",
      "    \\begin{problem}\n",
      "    Создайте эмперические совокупности  $\\mathtt{\\text{exp}}$ и $\\mathtt{\\text{log}}$ вида $\\mathtt{\\text{exp}}(1),\\mathtt{\\text{exp}}(2), ..., \\mathtt{\\text{exp}}(100) $ и $\\mathtt{\\text{log}}(1),\\mathtt{\\text{log}}(2), ..., \\mathtt{\\text{log}}(100). $\n",
      "\n",
      "    Найдите эмпирическое среднее и эмпирическое стандартное отклонение совокупности $\\mathtt{\\text{exp}}$, её четвёртый эмпирический центральный момент и эмпирический эксцесс.\n",
      "\n",
      "    Кроме того, найдите эмпирический коэффициент корреляции признаков $\\mathtt{\\text{exp}}$ и $\\mathtt{\\text{log}}$ на совокупности натуральных чисел от $1$ до $100$.\n",
      "    \\end{problem}\n",
      "    \\begin{solution}\n",
      "    Используя\n",
      "\n",
      "\t$E(X) = sum(X) / n$\n",
      "\n",
      "\t$Var(X) = E(X^2) - [E(X)]^2$\n",
      "\n",
      "\t$\\mu_4(X) = E((X-E(X))^4)$\n",
      "\n",
      "\t$Ex = \\frac{\\mu_4(X)}{[\\sigma(X)]^4} - 3$\n",
      "\n",
      "\t$r_{xy} = \\frac{E(XY) - E(X) * E(Y)}{\\sigma(X) * \\sigma(Y)}$\n",
      "\n",
      "    рассчитаем искомые значения.\n",
      "\n",
      "    Ответы: $4.25253870368928 \\cdot 10^{41}, 2.85939246949767 \\cdot 10^{42}, 4.98013632124489 \\cdot 10^{171}, 71.49826, 0.00038$.\n",
      "\n",
      "    \\end{solution}\n",
      "    \\begin{problem}\n",
      "    Создайте эмперические совокупности  $\\mathtt{\\text{exp}}$ и $\\mathtt{\\text{log}}$ вида $\\mathtt{\\text{exp}}(1),\\mathtt{\\text{exp}}(2), ..., \\mathtt{\\text{exp}}(77) $ и $\\mathtt{\\text{log}}(1),\\mathtt{\\text{log}}(2), ..., \\mathtt{\\text{log}}(77). $\n",
      "\n",
      "    Найдите эмпирическое среднее и эмпирическое стандартное отклонение совокупности $\\mathtt{\\text{exp}}$, её четвёртый эмпирический центральный момент и эмпирический эксцесс.\n",
      "\n",
      "    Кроме того, найдите эмпирический коэффициент корреляции признаков $\\mathtt{\\text{exp}}$ и $\\mathtt{\\text{log}}$ на совокупности натуральных чисел от $1$ до $77$.\n",
      "    \\end{problem}\n",
      "    \\begin{solution}\n",
      "    Используя\n",
      "\n",
      "\t$E(X) = sum(X) / n$\n",
      "\n",
      "\t$Var(X) = E(X^2) - [E(X)]^2$\n",
      "\n",
      "\t$\\mu_4(X) = E((X-E(X))^4)$\n",
      "\n",
      "\t$Ex = \\frac{\\mu_4(X)}{[\\sigma(X)]^4} - 3$\n",
      "\n",
      "\t$r_{xy} = \\frac{E(XY) - E(X) * E(Y)}{\\sigma(X) * \\sigma(Y)}$\n",
      "\n",
      "    рассчитаем искомые значения.\n",
      "\n",
      "    Ответы: $5.66740783200168 \\cdot 10^{31}, 3.33285124990578 \\cdot 10^{32}, 7.03150966623892 \\cdot 10^{131}, 53.98819, 0.0006$.\n",
      "\n",
      "    \\end{solution}\n"
     ]
    }
   ],
   "source": [
    "print(text)"
   ]
  },
  {
   "cell_type": "code",
   "execution_count": 9,
   "id": "ecf5f59f",
   "metadata": {
    "id": "ecf5f59f",
    "outputId": "11c1aeb8-9f95-4c98-95cc-205ca417abc4"
   },
   "outputs": [
    {
     "data": {
      "text/plain": "WindowsPath('C:/Users/Dasha/Downloads/kursovaya/GEN/_Base/Q4')"
     },
     "execution_count": 9,
     "metadata": {},
     "output_type": "execute_result"
    }
   ],
   "source": [
    "saving_path = Path(Path.cwd().parent, \"GEN\", \"_Base\", \"Q\"+id[0])\n",
    "saving_path.mkdir(exist_ok=True)\n",
    "saving_path"
   ]
  },
  {
   "cell_type": "code",
   "execution_count": 10,
   "id": "5ff2795e",
   "metadata": {
    "id": "5ff2795e"
   },
   "outputs": [],
   "source": [
    "with open(Path(saving_path, \"add1.txt\"), \"w\", encoding='utf-8') as f:\n",
    "    f.write(text)"
   ]
  },
  {
   "cell_type": "code",
   "execution_count": 10,
   "id": "df731fe7",
   "metadata": {
    "id": "df731fe7"
   },
   "outputs": [],
   "source": [
    ""
   ]
  }
 ],
 "metadata": {
  "kernelspec": {
   "display_name": "Python 3 (ipykernel)",
   "language": "python",
   "name": "python3"
  },
  "language_info": {
   "codemirror_mode": {
    "name": "ipython",
    "version": 3
   },
   "file_extension": ".py",
   "mimetype": "text/x-python",
   "name": "python",
   "nbconvert_exporter": "python",
   "pygments_lexer": "ipython3",
   "version": "3.9.7"
  },
  "colab": {
   "name": "Зайцева Задача 1",
   "provenance": []
  }
 },
 "nbformat": 4,
 "nbformat_minor": 5
}