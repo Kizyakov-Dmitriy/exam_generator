{
 "cells": [
  {
   "cell_type": "code",
   "execution_count": 25,
   "id": "b8a36230",
   "metadata": {
    "id": "b8a36230"
   },
   "outputs": [],
   "source": [
    "from random import randint\n",
    "from IPython.display import Latex\n",
    "from sympy import latex\n",
    "from pathlib import Path\n",
    "import numpy as np"
   ]
  },
  {
   "cell_type": "code",
   "execution_count": 26,
   "id": "6106e38f",
   "metadata": {
    "id": "6106e38f"
   },
   "outputs": [],
   "source": [
    "id = \"5.1\""
   ]
  },
  {
   "cell_type": "code",
   "execution_count": 27,
   "outputs": [],
   "source": [
    "def get_ans(marks, n, teachers):\n",
    "    k = n // teachers\n",
    "    e_x = np.sum([marks[m] * m for m in marks]) / n\n",
    "    var_x = np.var([ m for m in marks for _ in range(marks[m])]) / k * (n - k) / (n - 1)\n",
    "\n",
    "    return e_x, var_x ** 0.5"
   ],
   "metadata": {
    "collapsed": false,
    "pycharm": {
     "name": "#%%\n"
    }
   }
  },
  {
   "cell_type": "code",
   "execution_count": 28,
   "id": "2753dd62",
   "metadata": {
    "id": "2753dd62"
   },
   "outputs": [],
   "source": [
    "n = 3"
   ]
  },
  {
   "cell_type": "code",
   "execution_count": 29,
   "id": "4a1f3612",
   "metadata": {
    "id": "4a1f3612",
    "colab": {
     "base_uri": "https://localhost:8080/"
    },
    "outputId": "1f1a18e4-a8f0-4b05-d22e-aa8307f03128"
   },
   "outputs": [],
   "source": [
    "text = \"\"\n",
    "for _ in range(n):\n",
    "    marks_number = randint(5, 15)\n",
    "    t = randint(5, 20)\n",
    "    n = t * randint(10, 40)\n",
    "\n",
    "    marks_list = [randint(1, n // (marks_number / 2)) for _ in range(marks_number - 1)]\n",
    "    marks_list += [n - sum(marks_list)]\n",
    "    while not all([el >= 0 for el in marks_list]):\n",
    "            marks_list = [randint(1, n // (marks_number / 3)) for _ in range(marks_number - 1)]\n",
    "            marks_list += [n - sum(marks_list)]\n",
    "\n",
    "    marks = {mark: marks_list[mark - 1] for mark in range(1, marks_number + 1)}\n",
    "    e, sigma = get_ans(marks, n, t)\n",
    "\n",
    "    text += r\"\"\"\n",
    "    \\begin{problem}\n",
    "    \tРаспределение результатов экзамена в некоторой стране с $((len(marks))$-балльной системой оценивания задано следующим образом:\n",
    "    \t$((marks))$\n",
    "\n",
    "\tРаботы будут перепроверять $((t))$ преподавателей, которые разделили все имеющиеся работы между собой случайным образом. Пусть $\\overline{X}$ - средний балл (по перепроверки) работ, попавших к одному преподавателю.\n",
    "\n",
    "\tТребуется найти матожидание и стандартное отклонение среднего балла работ, попавших к одному преподавателю, до перепроверки.\n",
    "    \\end{problem}\n",
    "    \\begin{solution}\n",
    "\n",
    "\n",
    "    k = len(marks) // k\n",
    "\n",
    "    ex = np.sum([marks[m] * m for m in marks]) / n\n",
    "\n",
    "    varx = np.var([ m for m in marks for temp in range(marks[m])]) / k * (n - k) / (n - 1)\n",
    "\n",
    "    sigmax = varx**(0.5)\n",
    "    Ответы: $((e)), ((sigma))$.\n",
    "\n",
    "    \\end{solution}\"\"\"\n",
    "    e = round(e, 5)\n",
    "    sigma = round(sigma, 5)\n",
    "    text = text.replace(\"((len(marks))\", latex(len(marks)))\n",
    "    text = text.replace(\"((t))\", latex(t))\n",
    "    text = text.replace(\"((marks))\", latex(marks))\n",
    "\n",
    "    text = text.replace(\"((e))\", latex(e))\n",
    "    text = text.replace(\"((sigma))\", latex(sigma))\n"
   ]
  },
  {
   "cell_type": "code",
   "execution_count": 30,
   "id": "96ab0fce",
   "metadata": {
    "id": "96ab0fce",
    "outputId": "1a3afaf6-d19d-44b6-82e2-c81b721a86c6"
   },
   "outputs": [
    {
     "name": "stdout",
     "output_type": "stream",
     "text": [
      "\n",
      "    \\begin{problem}\n",
      "    \tРаспределение результатов экзамена в некоторой стране с $14$-балльной системой оценивания задано следующим образом:\n",
      "    \t$\\left\\{ 1 : 3, \\  2 : 7, \\  3 : 5, \\  4 : 2, \\  5 : 11, \\  6 : 9, \\  7 : 2, \\  8 : 19, \\  9 : 23, \\  10 : 26, \\  11 : 15, \\  12 : 9, \\  13 : 20, \\  14 : 41\\right\\}$\n",
      "\n",
      "\tРаботы будут перепроверять $16$ преподавателей, которые разделили все имеющиеся работы между собой случайным образом. Пусть $\\overline{X}$ - средний балл (по перепроверки) работ, попавших к одному преподавателю.\n",
      "\n",
      "\tТребуется найти матожидание и стандартное отклонение среднего балла работ, попавших к одному преподавателю, до перепроверки.\n",
      "    \\end{problem}\n",
      "    \\begin{solution}\n",
      "\n",
      "\n",
      "    k = len(marks) // k\n",
      "\n",
      "    ex = np.sum([marks[m] * m for m in marks]) / n\n",
      "\n",
      "    varx = np.var([ m for m in marks for temp in range(marks[m])]) / k * (n - k) / (n - 1)\n",
      "\n",
      "    sigmax = varx**(0.5)\n",
      "    Ответы: $9.83854, 0.99615$.\n",
      "\n",
      "    \\end{solution}\n",
      "    \\begin{problem}\n",
      "    \tРаспределение результатов экзамена в некоторой стране с $11$-балльной системой оценивания задано следующим образом:\n",
      "    \t$\\left\\{ 1 : 13, \\  2 : 3, \\  3 : 14, \\  4 : 9, \\  5 : 6, \\  6 : 15, \\  7 : 1, \\  8 : 22, \\  9 : 17, \\  10 : 10, \\  11 : 16\\right\\}$\n",
      "\n",
      "\tРаботы будут перепроверять $6$ преподавателей, которые разделили все имеющиеся работы между собой случайным образом. Пусть $\\overline{X}$ - средний балл (по перепроверки) работ, попавших к одному преподавателю.\n",
      "\n",
      "\tТребуется найти матожидание и стандартное отклонение среднего балла работ, попавших к одному преподавателю, до перепроверки.\n",
      "    \\end{problem}\n",
      "    \\begin{solution}\n",
      "\n",
      "\n",
      "    k = len(marks) // k\n",
      "\n",
      "    ex = np.sum([marks[m] * m for m in marks]) / n\n",
      "\n",
      "    varx = np.var([ m for m in marks for temp in range(marks[m])]) / k * (n - k) / (n - 1)\n",
      "\n",
      "    sigmax = varx**(0.5)\n",
      "    Ответы: $6.57937, 0.64259$.\n",
      "\n",
      "    \\end{solution}\n",
      "    \\begin{problem}\n",
      "    \tРаспределение результатов экзамена в некоторой стране с $10$-балльной системой оценивания задано следующим образом:\n",
      "    \t$\\left\\{ 1 : 6, \\  2 : 16, \\  3 : 9, \\  4 : 16, \\  5 : 14, \\  6 : 4, \\  7 : 25, \\  8 : 26, \\  9 : 24, \\  10 : 10\\right\\}$\n",
      "\n",
      "\tРаботы будут перепроверять $10$ преподавателей, которые разделили все имеющиеся работы между собой случайным образом. Пусть $\\overline{X}$ - средний балл (по перепроверки) работ, попавших к одному преподавателю.\n",
      "\n",
      "\tТребуется найти матожидание и стандартное отклонение среднего балла работ, попавших к одному преподавателю, до перепроверки.\n",
      "    \\end{problem}\n",
      "    \\begin{solution}\n",
      "\n",
      "\n",
      "    k = len(marks) // k\n",
      "\n",
      "    ex = np.sum([marks[m] * m for m in marks]) / n\n",
      "\n",
      "    varx = np.var([ m for m in marks for temp in range(marks[m])]) / k * (n - k) / (n - 1)\n",
      "\n",
      "    sigmax = varx**(0.5)\n",
      "    Ответы: $6.14667, 0.65542$.\n",
      "\n",
      "    \\end{solution}\n"
     ]
    }
   ],
   "source": [
    "print(text)"
   ]
  },
  {
   "cell_type": "code",
   "execution_count": 31,
   "id": "ecf5f59f",
   "metadata": {
    "id": "ecf5f59f",
    "outputId": "11c1aeb8-9f95-4c98-95cc-205ca417abc4"
   },
   "outputs": [
    {
     "data": {
      "text/plain": "WindowsPath('C:/Users/Dasha/Downloads/kursovaya/GEN/_Base/Q5')"
     },
     "execution_count": 31,
     "metadata": {},
     "output_type": "execute_result"
    }
   ],
   "source": [
    "saving_path = Path(Path.cwd().parent, \"GEN\", \"_Base\", \"Q\"+id[0])\n",
    "saving_path.mkdir(exist_ok=True)\n",
    "saving_path"
   ]
  },
  {
   "cell_type": "code",
   "execution_count": 32,
   "id": "5ff2795e",
   "metadata": {
    "id": "5ff2795e"
   },
   "outputs": [],
   "source": [
    "with open(Path(saving_path, \"add1.txt\"), \"w\", encoding='utf-8') as f:\n",
    "    f.write(text)"
   ]
  },
  {
   "cell_type": "code",
   "execution_count": 32,
   "id": "df731fe7",
   "metadata": {
    "id": "df731fe7"
   },
   "outputs": [],
   "source": []
  },
  {
   "cell_type": "code",
   "execution_count": 32,
   "outputs": [],
   "source": [],
   "metadata": {
    "collapsed": false,
    "pycharm": {
     "name": "#%%\n"
    }
   }
  }
 ],
 "metadata": {
  "kernelspec": {
   "display_name": "Python 3 (ipykernel)",
   "language": "python",
   "name": "python3"
  },
  "language_info": {
   "codemirror_mode": {
    "name": "ipython",
    "version": 3
   },
   "file_extension": ".py",
   "mimetype": "text/x-python",
   "name": "python",
   "nbconvert_exporter": "python",
   "pygments_lexer": "ipython3",
   "version": "3.9.7"
  },
  "colab": {
   "name": "Зайцева Задача 1",
   "provenance": []
  }
 },
 "nbformat": 4,
 "nbformat_minor": 5
}